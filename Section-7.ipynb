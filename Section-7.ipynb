{
 "cells": [
  {
   "cell_type": "code",
   "execution_count": null,
   "id": "9b521e13-5ea7-48b4-ba71-454b30f3393a",
   "metadata": {
    "tags": []
   },
   "outputs": [],
   "source": [
    "from pyspark import SparkContext\n",
    "from pyspark.streaming import StreamingContext\n",
    "from pyspark.sql import Row, SparkSession\n",
    "from pyspark.sql.functions import regexp_extract"
   ]
  },
  {
   "cell_type": "code",
   "execution_count": null,
   "id": "8cbb0384-19c7-4f1b-a746-b86eedeef20e",
   "metadata": {
    "tags": []
   },
   "outputs": [],
   "source": [
    "spark = SparkSession.builder.getOrCreate()"
   ]
  },
  {
   "cell_type": "code",
   "execution_count": null,
   "id": "45ad2a2d-4e9a-4320-9625-60c61fec4bff",
   "metadata": {
    "tags": []
   },
   "outputs": [],
   "source": [
    "accessLines = spark.readStream.text(\"logs\")"
   ]
  },
  {
   "cell_type": "code",
   "execution_count": null,
   "id": "976453e2-09f3-443f-815b-f1a272bcfbcd",
   "metadata": {
    "tags": []
   },
   "outputs": [],
   "source": [
    "contentSizeExp = r'\\s(\\d+)$'\n",
    "statusExp = r'\\s(\\d{3})\\s'\n",
    "generalExp = r'\\\"(\\S+)\\s(\\S+)\\s*(\\S*)\\\"'\n",
    "timeExp = r'\\[(\\d{2}/\\w{3}/\\d{4}:\\d{2}:\\d{2}:\\d{2} -\\d{4})]'\n",
    "hostExp = r'(^\\S+\\.[\\S+\\.]+\\S+)\\s'\n",
    "\n",
    "logsDF = accessLines.select(regexp_extract('value', hostExp, 1).alias('host'),\n",
    "                         regexp_extract('value', timeExp, 1).alias('timestamp'),\n",
    "                         regexp_extract('value', generalExp, 1).alias('method'),\n",
    "                         regexp_extract('value', generalExp, 2).alias('endpoint'),\n",
    "                         regexp_extract('value', generalExp, 3).alias('protocol'),\n",
    "                         regexp_extract('value', statusExp, 1).cast('integer').alias('status'),\n",
    "                         regexp_extract('value', contentSizeExp, 1).cast('integer').alias('content_size'))"
   ]
  },
  {
   "cell_type": "code",
   "execution_count": null,
   "id": "c3c73182-345a-49ec-ab78-afdecd940212",
   "metadata": {
    "tags": []
   },
   "outputs": [],
   "source": [
    "statusCountsDF = logsDF.groupBy(logsDF.status).count()"
   ]
  },
  {
   "cell_type": "code",
   "execution_count": null,
   "id": "4bbc0ff3-77d7-442f-b9d3-4aab3ca148a4",
   "metadata": {
    "tags": []
   },
   "outputs": [],
   "source": [
    "query = ( statusCountsDF.writeStream.outputMode(\"complete\").format(\"console\")\\\n",
    "         .queryName(\"counts\").start() )"
   ]
  },
  {
   "cell_type": "code",
   "execution_count": null,
   "id": "fbf09b9e-7846-47a2-829f-923797d3e7a7",
   "metadata": {
    "tags": []
   },
   "outputs": [],
   "source": [
    "query.awaitTermination()"
   ]
  },
  {
   "cell_type": "markdown",
   "id": "c72742b5-8298-4b63-9629-e50d9504dee0",
   "metadata": {},
   "source": [
    "### Top URL's Count For Past 30 Seconds"
   ]
  },
  {
   "cell_type": "code",
   "execution_count": null,
   "id": "1d511d8e-c79e-404c-a921-d906a715707d",
   "metadata": {},
   "outputs": [],
   "source": [
    "logsDF2 = logsDF.withColumn(\"eventTime\", func.current_timestamp())"
   ]
  },
  {
   "cell_type": "code",
   "execution_count": null,
   "id": "b337a64a-f5cd-427b-916c-8ca89d703f4c",
   "metadata": {},
   "outputs": [],
   "source": [
    "endpointCounts = logsDF2.groupBy(func.window(func.col(\"eventTime\"), \\\n",
    "      \"30 seconds\", \"10 seconds\"), func.col(\"endpoint\")).count()"
   ]
  },
  {
   "cell_type": "code",
   "execution_count": null,
   "id": "b8407403-c089-4d5e-a050-8bddf6c686de",
   "metadata": {},
   "outputs": [],
   "source": [
    "sortedEndpointCounts = endpointCounts.orderBy(func.col(\"count\").desc())"
   ]
  },
  {
   "cell_type": "code",
   "execution_count": null,
   "id": "e5e4503b-9190-44ad-bd5b-ff4d865bb49c",
   "metadata": {},
   "outputs": [],
   "source": [
    "query = sortedEndpointCounts.writeStream.outputMode(\"complete\").format(\"console\") \\\n",
    "      .queryName(\"counts\").start()"
   ]
  },
  {
   "cell_type": "code",
   "execution_count": null,
   "id": "adb7ace8-1f9d-41fb-9fa5-b652bd5fbb30",
   "metadata": {},
   "outputs": [],
   "source": [
    "query.awaitTermination()"
   ]
  }
 ],
 "metadata": {
  "kernelspec": {
   "display_name": "Python 3 (ipykernel)",
   "language": "python",
   "name": "python3"
  },
  "language_info": {
   "codemirror_mode": {
    "name": "ipython",
    "version": 3
   },
   "file_extension": ".py",
   "mimetype": "text/x-python",
   "name": "python",
   "nbconvert_exporter": "python",
   "pygments_lexer": "ipython3",
   "version": "3.10.10"
  }
 },
 "nbformat": 4,
 "nbformat_minor": 5
}
